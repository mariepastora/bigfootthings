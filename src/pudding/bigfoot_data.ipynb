{
 "cells": [
  {
   "cell_type": "code",
   "execution_count": 21,
   "metadata": {},
   "outputs": [],
   "source": [
    "%matplotlib inline\n",
    "\n",
    "import matplotlib\n",
    "import numpy as np\n",
    "import pandas as pd \n",
    "\n",
    "import matplotlib.pyplot as plt"
   ]
  },
  {
   "cell_type": "code",
   "execution_count": 30,
   "metadata": {},
   "outputs": [],
   "source": [
    "df = pd.read_csv('bfro_reports_geocoded.csv',na_values=np.nan)"
   ]
  },
  {
   "cell_type": "code",
   "execution_count": 31,
   "metadata": {
    "scrolled": true
   },
   "outputs": [
    {
     "data": {
      "text/plain": [
       "(4586, 27)"
      ]
     },
     "execution_count": 31,
     "metadata": {},
     "output_type": "execute_result"
    }
   ],
   "source": [
    "df.head()\n",
    "df.shape"
   ]
  },
  {
   "cell_type": "code",
   "execution_count": 32,
   "metadata": {},
   "outputs": [
    {
     "data": {
      "text/plain": [
       "(3659, 27)"
      ]
     },
     "execution_count": 32,
     "metadata": {},
     "output_type": "execute_result"
    }
   ],
   "source": [
    "df_geocoded = df[ ~ df['latitude'].isnull()]\n",
    "df_geocoded = df[ ~ df['longitude'].isnull()]\n",
    "\n",
    "df_geocoded.shape"
   ]
  },
  {
   "cell_type": "code",
   "execution_count": 64,
   "metadata": {},
   "outputs": [
    {
     "name": "stderr",
     "output_type": "stream",
     "text": [
      "/Users/mariepatino/anaconda3/lib/python3.6/site-packages/ipykernel_launcher.py:4: SettingWithCopyWarning: \n",
      "A value is trying to be set on a copy of a slice from a DataFrame.\n",
      "Try using .loc[row_indexer,col_indexer] = value instead\n",
      "\n",
      "See the caveats in the documentation: http://pandas.pydata.org/pandas-docs/stable/indexing.html#indexing-view-versus-copy\n",
      "  after removing the cwd from sys.path.\n",
      "/Users/mariepatino/anaconda3/lib/python3.6/site-packages/ipykernel_launcher.py:5: SettingWithCopyWarning: \n",
      "A value is trying to be set on a copy of a slice from a DataFrame.\n",
      "Try using .loc[row_indexer,col_indexer] = value instead\n",
      "\n",
      "See the caveats in the documentation: http://pandas.pydata.org/pandas-docs/stable/indexing.html#indexing-view-versus-copy\n",
      "  \"\"\"\n"
     ]
    },
    {
     "data": {
      "text/html": [
       "<div>\n",
       "<style>\n",
       "    .dataframe thead tr:only-child th {\n",
       "        text-align: right;\n",
       "    }\n",
       "\n",
       "    .dataframe thead th {\n",
       "        text-align: left;\n",
       "    }\n",
       "\n",
       "    .dataframe tbody tr th {\n",
       "        vertical-align: top;\n",
       "    }\n",
       "</style>\n",
       "<table border=\"1\" class=\"dataframe\">\n",
       "  <thead>\n",
       "    <tr style=\"text-align: right;\">\n",
       "      <th></th>\n",
       "      <th>observed</th>\n",
       "      <th>location_details</th>\n",
       "      <th>county</th>\n",
       "      <th>state</th>\n",
       "      <th>title</th>\n",
       "      <th>latitude</th>\n",
       "      <th>longitude</th>\n",
       "      <th>date</th>\n",
       "      <th>number</th>\n",
       "      <th>classification</th>\n",
       "      <th>...</th>\n",
       "      <th>precip_probability</th>\n",
       "      <th>precip_type</th>\n",
       "      <th>pressure</th>\n",
       "      <th>summary</th>\n",
       "      <th>uv_index</th>\n",
       "      <th>visibility</th>\n",
       "      <th>wind_bearing</th>\n",
       "      <th>wind_speed</th>\n",
       "      <th>rounded_lat</th>\n",
       "      <th>rounded_lng</th>\n",
       "    </tr>\n",
       "  </thead>\n",
       "  <tbody>\n",
       "    <tr>\n",
       "      <th>3</th>\n",
       "      <td>My two children and I were returning from Altu...</td>\n",
       "      <td>The creature crossed from one cattle pasture t...</td>\n",
       "      <td>Washita County</td>\n",
       "      <td>Oklahoma</td>\n",
       "      <td>Report 9765: Motorist and children have daylig...</td>\n",
       "      <td>35.30110</td>\n",
       "      <td>-99.17020</td>\n",
       "      <td>1973-09-28</td>\n",
       "      <td>9765.0</td>\n",
       "      <td>Class A</td>\n",
       "      <td>...</td>\n",
       "      <td>0.00</td>\n",
       "      <td>NaN</td>\n",
       "      <td>1017.29</td>\n",
       "      <td>Partly cloudy starting in the afternoon.</td>\n",
       "      <td>6.0</td>\n",
       "      <td>10.00</td>\n",
       "      <td>263.0</td>\n",
       "      <td>8.15</td>\n",
       "      <td>35.4</td>\n",
       "      <td>-99.3</td>\n",
       "    </tr>\n",
       "    <tr>\n",
       "      <th>4</th>\n",
       "      <td>I was staying the night with a friends of mine...</td>\n",
       "      <td>Vincent, Ohio (In theWayne National Forest)</td>\n",
       "      <td>Washington County</td>\n",
       "      <td>Ohio</td>\n",
       "      <td>Report 4983: Sighting and vocalizations at a h...</td>\n",
       "      <td>39.38745</td>\n",
       "      <td>-81.67339</td>\n",
       "      <td>1971-08-01</td>\n",
       "      <td>4983.0</td>\n",
       "      <td>Class A</td>\n",
       "      <td>...</td>\n",
       "      <td>0.21</td>\n",
       "      <td>rain</td>\n",
       "      <td>1022.74</td>\n",
       "      <td>Mostly cloudy throughout the day.</td>\n",
       "      <td>6.0</td>\n",
       "      <td>4.97</td>\n",
       "      <td>156.0</td>\n",
       "      <td>3.02</td>\n",
       "      <td>39.3</td>\n",
       "      <td>-81.6</td>\n",
       "    </tr>\n",
       "    <tr>\n",
       "      <th>5</th>\n",
       "      <td>My family had moved from the city of Rochester...</td>\n",
       "      <td>East on Route 104, near town of Huron.</td>\n",
       "      <td>Wayne County</td>\n",
       "      <td>New York</td>\n",
       "      <td>Report 26566: Man observes tall, white hair-co...</td>\n",
       "      <td>43.27314</td>\n",
       "      <td>-76.89331</td>\n",
       "      <td>2003-09-20</td>\n",
       "      <td>26566.0</td>\n",
       "      <td>Class A</td>\n",
       "      <td>...</td>\n",
       "      <td>0.21</td>\n",
       "      <td>rain</td>\n",
       "      <td>1020.75</td>\n",
       "      <td>Partly cloudy until evening.</td>\n",
       "      <td>4.0</td>\n",
       "      <td>9.53</td>\n",
       "      <td>253.0</td>\n",
       "      <td>8.73</td>\n",
       "      <td>43.2</td>\n",
       "      <td>-76.8</td>\n",
       "    </tr>\n",
       "    <tr>\n",
       "      <th>6</th>\n",
       "      <td>I grew up in Northwestern Nevada along the Cal...</td>\n",
       "      <td>The Western face of Peavine Mountain, Northwes...</td>\n",
       "      <td>Washoe County</td>\n",
       "      <td>Nevada</td>\n",
       "      <td>Report 5692: Father and son hear vocalizations...</td>\n",
       "      <td>39.59200</td>\n",
       "      <td>-119.97500</td>\n",
       "      <td>1970-09-01</td>\n",
       "      <td>5692.0</td>\n",
       "      <td>Class B</td>\n",
       "      <td>...</td>\n",
       "      <td>0.00</td>\n",
       "      <td>NaN</td>\n",
       "      <td>1011.96</td>\n",
       "      <td>Clear throughout the day.</td>\n",
       "      <td>9.0</td>\n",
       "      <td>9.76</td>\n",
       "      <td>197.0</td>\n",
       "      <td>1.96</td>\n",
       "      <td>39.6</td>\n",
       "      <td>-120.0</td>\n",
       "    </tr>\n",
       "    <tr>\n",
       "      <th>8</th>\n",
       "      <td>I was on my way to Claremont from Lebanon on R...</td>\n",
       "      <td>Close to Claremont down 120 not far from Kings...</td>\n",
       "      <td>Sullivan County</td>\n",
       "      <td>New Hampshire</td>\n",
       "      <td>Report 55269: Dawn sighting at Stevens Brook o...</td>\n",
       "      <td>43.41549</td>\n",
       "      <td>-72.33093</td>\n",
       "      <td>2016-06-07</td>\n",
       "      <td>55269.0</td>\n",
       "      <td>Class A</td>\n",
       "      <td>...</td>\n",
       "      <td>0.30</td>\n",
       "      <td>rain</td>\n",
       "      <td>999.41</td>\n",
       "      <td>Rain in the evening.</td>\n",
       "      <td>8.0</td>\n",
       "      <td>9.47</td>\n",
       "      <td>234.0</td>\n",
       "      <td>2.47</td>\n",
       "      <td>43.5</td>\n",
       "      <td>-72.3</td>\n",
       "    </tr>\n",
       "  </tbody>\n",
       "</table>\n",
       "<p>5 rows × 29 columns</p>\n",
       "</div>"
      ],
      "text/plain": [
       "                                            observed  \\\n",
       "3  My two children and I were returning from Altu...   \n",
       "4  I was staying the night with a friends of mine...   \n",
       "5  My family had moved from the city of Rochester...   \n",
       "6  I grew up in Northwestern Nevada along the Cal...   \n",
       "8  I was on my way to Claremont from Lebanon on R...   \n",
       "\n",
       "                                    location_details             county  \\\n",
       "3  The creature crossed from one cattle pasture t...     Washita County   \n",
       "4        Vincent, Ohio (In theWayne National Forest)  Washington County   \n",
       "5             East on Route 104, near town of Huron.       Wayne County   \n",
       "6  The Western face of Peavine Mountain, Northwes...      Washoe County   \n",
       "8  Close to Claremont down 120 not far from Kings...    Sullivan County   \n",
       "\n",
       "           state                                              title  latitude  \\\n",
       "3       Oklahoma  Report 9765: Motorist and children have daylig...  35.30110   \n",
       "4           Ohio  Report 4983: Sighting and vocalizations at a h...  39.38745   \n",
       "5       New York  Report 26566: Man observes tall, white hair-co...  43.27314   \n",
       "6         Nevada  Report 5692: Father and son hear vocalizations...  39.59200   \n",
       "8  New Hampshire  Report 55269: Dawn sighting at Stevens Brook o...  43.41549   \n",
       "\n",
       "   longitude        date   number classification     ...       \\\n",
       "3  -99.17020  1973-09-28   9765.0        Class A     ...        \n",
       "4  -81.67339  1971-08-01   4983.0        Class A     ...        \n",
       "5  -76.89331  2003-09-20  26566.0        Class A     ...        \n",
       "6 -119.97500  1970-09-01   5692.0        Class B     ...        \n",
       "8  -72.33093  2016-06-07  55269.0        Class A     ...        \n",
       "\n",
       "  precip_probability  precip_type  pressure  \\\n",
       "3               0.00          NaN   1017.29   \n",
       "4               0.21         rain   1022.74   \n",
       "5               0.21         rain   1020.75   \n",
       "6               0.00          NaN   1011.96   \n",
       "8               0.30         rain    999.41   \n",
       "\n",
       "                                    summary  uv_index  visibility  \\\n",
       "3  Partly cloudy starting in the afternoon.       6.0       10.00   \n",
       "4         Mostly cloudy throughout the day.       6.0        4.97   \n",
       "5              Partly cloudy until evening.       4.0        9.53   \n",
       "6                 Clear throughout the day.       9.0        9.76   \n",
       "8                      Rain in the evening.       8.0        9.47   \n",
       "\n",
       "   wind_bearing  wind_speed  rounded_lat  rounded_lng  \n",
       "3         263.0        8.15         35.4        -99.3  \n",
       "4         156.0        3.02         39.3        -81.6  \n",
       "5         253.0        8.73         43.2        -76.8  \n",
       "6         197.0        1.96         39.6       -120.0  \n",
       "8         234.0        2.47         43.5        -72.3  \n",
       "\n",
       "[5 rows x 29 columns]"
      ]
     },
     "execution_count": 64,
     "metadata": {},
     "output_type": "execute_result"
    }
   ],
   "source": [
    "def point_round(x, prec=2, base=.2):\n",
    "    return round(base * round(float(x)/base),prec)\n",
    "\n",
    "df_geocoded['rounded_lat'] = df_geocoded.latitude.apply(point_round)\n",
    "df_geocoded['rounded_lng'] = df_geocoded.longitude.apply(point_round)\n",
    "df_geocoded.head()"
   ]
  },
  {
   "cell_type": "code",
   "execution_count": 65,
   "metadata": {
    "scrolled": true
   },
   "outputs": [
    {
     "data": {
      "text/plain": [
       "(-150, -50)"
      ]
     },
     "execution_count": 65,
     "metadata": {},
     "output_type": "execute_result"
    },
    {
     "data": {
      "image/png": "[encoded data removed]",
      "text/plain": [
       "<Figure size 1080x720 with 1 Axes>"
      ]
     },
     "metadata": {},
     "output_type": "display_data"
    }
   ],
   "source": [
    "ax = df_geocoded.groupby(by=['rounded_lat', 'rounded_lng']).size().reset_index().plot(x='rounded_lng', y='rounded_lat', marker='o', linestyle='', ms=1, figsize=(15,10))\n",
    "ax.invert_xaxis()\n",
    "ax.set_xlim((-150, -50))\n",
    "\n"
   ]
  },
  {
   "cell_type": "code",
   "execution_count": 66,
   "metadata": {
    "scrolled": true
   },
   "outputs": [],
   "source": [
    "df_geocoded.groupby(by=['rounded_lat', 'rounded_lng']).size().reset_index().to_csv('dots_for_map.csv')"
   ]
  },
  {
   "cell_type": "code",
   "execution_count": 67,
   "metadata": {},
   "outputs": [],
   "source": [
    "points = df_geocoded.groupby(by=['rounded_lat', 'rounded_lng']).size().reset_index()"
   ]
  },
  {
   "cell_type": "code",
   "execution_count": 68,
   "metadata": {},
   "outputs": [],
   "source": [
    "points.rounded_lng = points.rounded_lng.astype(float)"
   ]
  },
  {
   "cell_type": "code",
   "execution_count": 69,
   "metadata": {},
   "outputs": [],
   "source": [
    "points.sort_values('rounded_lng')\n",
    "points[points.rounded_lng > -130].sort_values('rounded_lng').to_csv('dots_without_alaska.csv')"
   ]
  },
  {
   "cell_type": "code",
   "execution_count": null,
   "metadata": {
    "collapsed": true
   },
   "outputs": [],
   "source": []
  }
 ],
 "metadata": {
  "kernelspec": {
   "display_name": "Python 3",
   "language": "python",
   "name": "python3"
  },
  "language_info": {
   "codemirror_mode": {
    "name": "ipython",
    "version": 3
   },
   "file_extension": ".py",
   "mimetype": "text/x-python",
   "name": "python",
   "nbconvert_exporter": "python",
   "pygments_lexer": "ipython3",
   "version": "3.6.3"
  }
 },
 "nbformat": 4,
 "nbformat_minor": 2
}
